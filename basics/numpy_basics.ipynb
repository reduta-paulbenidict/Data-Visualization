{
 "cells": [
  {
   "cell_type": "markdown",
   "id": "6084b902",
   "metadata": {},
   "source": [
    "### NUMPY BASICS\n",
    "```bash\n",
    "pip install numpy\n",
    "```\n"
   ]
  },
  {
   "cell_type": "code",
   "execution_count": 1,
   "id": "3953e25c",
   "metadata": {},
   "outputs": [],
   "source": [
    "import numpy as np"
   ]
  },
  {
   "cell_type": "markdown",
   "id": "238c2977",
   "metadata": {},
   "source": [
    "### 1ST SAMPLE IN NUMPY (with regular python list)"
   ]
  },
  {
   "cell_type": "code",
   "execution_count": null,
   "id": "f37b972a",
   "metadata": {},
   "outputs": [
    {
     "name": "stdout",
     "output_type": "stream",
     "text": [
      "[3, 4, 5]\n"
     ]
    }
   ],
   "source": [
    "#regular python list\n",
    "numbers = [1, 2, 3]\n",
    "result = [x + 2 for x in numbers]\n",
    "print(result)"
   ]
  },
  {
   "cell_type": "code",
   "execution_count": 19,
   "id": "394500ad",
   "metadata": {},
   "outputs": [
    {
     "name": "stdout",
     "output_type": "stream",
     "text": [
      "[3 4 5]\n"
     ]
    }
   ],
   "source": [
    "import numpy as np\n",
    "\n",
    "array_a = np.array([1, 2, 3])\n",
    "result = array_a + 2\n",
    "print(result)"
   ]
  },
  {
   "cell_type": "markdown",
   "id": "a3bbb979",
   "metadata": {},
   "source": [
    "### Creating a NumPy Array"
   ]
  },
  {
   "cell_type": "code",
   "execution_count": 1,
   "id": "7022b613",
   "metadata": {},
   "outputs": [
    {
     "name": "stdout",
     "output_type": "stream",
     "text": [
      "1D Array: [1 2 3]\n",
      "2D Array:\n",
      " [[1 2 3]\n",
      " [4 5 6]]\n"
     ]
    }
   ],
   "source": [
    "import numpy as np\n",
    "\n",
    "array_1 = np.array([1, 2, 3])  \n",
    "array_2 = np.array([[1, 2, 3], \n",
    "[4, 5, 6]]) \n",
    "\n",
    "print(\"1D Array:\", array_1)\n",
    "print(\"2D Array:\\n\", array_2)"
   ]
  },
  {
   "cell_type": "markdown",
   "id": "876e5dc9",
   "metadata": {},
   "source": [
    "### Accessing Elements"
   ]
  },
  {
   "cell_type": "code",
   "execution_count": 2,
   "id": "da82200a",
   "metadata": {},
   "outputs": [
    {
     "name": "stdout",
     "output_type": "stream",
     "text": [
      "20\n"
     ]
    }
   ],
   "source": [
    "import numpy as np\n",
    "\n",
    "array = np.array([[10, 20, 30], \n",
    "                 [40, 50, 60]])\n",
    "print(array[0, 1]) "
   ]
  },
  {
   "cell_type": "markdown",
   "id": "fa63c8ed",
   "metadata": {},
   "source": [
    "### Adding Arrays – np.concatenate()\n"
   ]
  },
  {
   "cell_type": "code",
   "execution_count": 3,
   "id": "95e4bd1c",
   "metadata": {},
   "outputs": [
    {
     "name": "stdout",
     "output_type": "stream",
     "text": [
      "[[1 2]\n",
      " [3 4]\n",
      " [5 6]]\n"
     ]
    }
   ],
   "source": [
    "import numpy as np\n",
    "\n",
    "a = np.array([[1, 2], \n",
    "[3, 4]])\n",
    "b = np.array([[5, 6]])\n",
    "\n",
    "result = np.concatenate((a, b), axis=0)\n",
    "print(result)"
   ]
  },
  {
   "cell_type": "markdown",
   "id": "419a69bb",
   "metadata": {},
   "source": [
    "### Sorting Arrays – np.sort()\n"
   ]
  },
  {
   "cell_type": "code",
   "execution_count": 4,
   "id": "78b5c893",
   "metadata": {},
   "outputs": [
    {
     "name": "stdout",
     "output_type": "stream",
     "text": [
      "[[1 2 3]\n",
      " [7 8 9]]\n"
     ]
    }
   ],
   "source": [
    "import numpy as np\n",
    "\n",
    "arr = np.array([[3, 1, 2], \n",
    "[9, 7, 8]])\n",
    "sorted_arr = np.sort(arr)\n",
    "print(sorted_arr) "
   ]
  },
  {
   "cell_type": "markdown",
   "id": "73f98223",
   "metadata": {},
   "source": [
    "### Removing Elements in NumPy\n"
   ]
  },
  {
   "cell_type": "code",
   "execution_count": 5,
   "id": "3e095439",
   "metadata": {},
   "outputs": [
    {
     "name": "stdout",
     "output_type": "stream",
     "text": [
      "[10 20 40]\n"
     ]
    }
   ],
   "source": [
    "import numpy as np\n",
    "\n",
    "arr = np.array([10, 20, 30, 40])\n",
    "new_arr = np.delete(arr, 2) \n",
    "\n",
    "print(new_arr) "
   ]
  },
  {
   "cell_type": "markdown",
   "id": "e9395817",
   "metadata": {},
   "source": [
    "### Broadcasting in numpy"
   ]
  },
  {
   "cell_type": "code",
   "execution_count": 6,
   "id": "886c868d",
   "metadata": {},
   "outputs": [
    {
     "name": "stdout",
     "output_type": "stream",
     "text": [
      "Result: [11 12 13]\n"
     ]
    }
   ],
   "source": [
    "import numpy as np\n",
    "\n",
    "arr_a = np.array([1, 2, 3])       \n",
    "arr_b = 10 \n",
    "\n",
    "result = arr_a + arr_b \n",
    "\n",
    "print(\"Result:\", result)"
   ]
  },
  {
   "cell_type": "markdown",
   "id": "f882c66b",
   "metadata": {},
   "source": [
    "### Basic Array Operations\n",
    "\n",
    "1. Element wise Arithmetic"
   ]
  },
  {
   "cell_type": "code",
   "execution_count": 9,
   "id": "426822a5",
   "metadata": {},
   "outputs": [
    {
     "name": "stdout",
     "output_type": "stream",
     "text": [
      "[5 7 9]\n",
      "[ 4 10 18]\n",
      "[0.25 0.4  0.5 ]\n",
      "[-3 -3 -3]\n",
      "[  1  32 729]\n"
     ]
    }
   ],
   "source": [
    "import numpy as np\n",
    "a = np.array([1, 2, 3])\n",
    "b = np.array([4, 5, 6])\n",
    "\n",
    "print(a + b) \n",
    "print(a * b)\n",
    "print(a / b)\n",
    "print(a - b)\n",
    "print(a ** b)"
   ]
  },
  {
   "cell_type": "markdown",
   "id": "8606b59b",
   "metadata": {},
   "source": [
    "2. Comparison Operations & Logical Operations\n"
   ]
  },
  {
   "cell_type": "code",
   "execution_count": 10,
   "id": "b415ea7f",
   "metadata": {},
   "outputs": [
    {
     "name": "stdout",
     "output_type": "stream",
     "text": [
      "[False False  True]\n"
     ]
    }
   ],
   "source": [
    "import numpy as np\n",
    "\n",
    "a = np.array([1, 2, 3])\n",
    "print(a > 2)"
   ]
  },
  {
   "cell_type": "markdown",
   "id": "df659b53",
   "metadata": {},
   "source": [
    "2.1 Logical Operations\n"
   ]
  },
  {
   "cell_type": "code",
   "execution_count": 11,
   "id": "41221ff9",
   "metadata": {},
   "outputs": [
    {
     "name": "stdout",
     "output_type": "stream",
     "text": [
      "[False False  True]\n"
     ]
    }
   ],
   "source": [
    "import numpy as np\n",
    "\n",
    "a = np.array([True, False, True])\n",
    "b = np.array([False, False, True])\n",
    "\n",
    "print(np.logical_and(a, b))"
   ]
  },
  {
   "cell_type": "markdown",
   "id": "2a72ca11",
   "metadata": {},
   "source": [
    "3. Matrix Multiplication"
   ]
  },
  {
   "cell_type": "code",
   "execution_count": 12,
   "id": "8fab1005",
   "metadata": {},
   "outputs": [
    {
     "name": "stdout",
     "output_type": "stream",
     "text": [
      "[[19 22]\n",
      " [43 50]]\n"
     ]
    }
   ],
   "source": [
    "import numpy as np\n",
    "\n",
    "a = np.array([[1, 2],\n",
    "              [3, 4]])\n",
    "b = np.array([[5, 6],\n",
    "              [7, 8]])\n",
    "\n",
    "result = a @ b  # or np.dot(a, b)\n",
    "print(result)"
   ]
  },
  {
   "cell_type": "markdown",
   "id": "46880305",
   "metadata": {},
   "source": [
    "4. In-Place Operations"
   ]
  },
  {
   "cell_type": "code",
   "execution_count": 13,
   "id": "c6dd7cf9",
   "metadata": {},
   "outputs": [
    {
     "name": "stdout",
     "output_type": "stream",
     "text": [
      "[6 7 8]\n"
     ]
    }
   ],
   "source": [
    "import numpy as np\n",
    "\n",
    "a = np.array([1, 2, 3])\n",
    "a += 5\n",
    "print(a)"
   ]
  }
 ],
 "metadata": {
  "kernelspec": {
   "display_name": "Python 3",
   "language": "python",
   "name": "python3"
  },
  "language_info": {
   "codemirror_mode": {
    "name": "ipython",
    "version": 3
   },
   "file_extension": ".py",
   "mimetype": "text/x-python",
   "name": "python",
   "nbconvert_exporter": "python",
   "pygments_lexer": "ipython3",
   "version": "3.11.9"
  }
 },
 "nbformat": 4,
 "nbformat_minor": 5
}
