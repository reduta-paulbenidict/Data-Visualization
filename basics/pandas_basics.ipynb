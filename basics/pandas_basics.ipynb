{
 "cells": [
  {
   "cell_type": "markdown",
   "id": "a57ee240",
   "metadata": {},
   "source": [
    "### PANDAS BASICS\n",
    "```bash\n",
    "pip install pandas\n",
    "```"
   ]
  },
  {
   "cell_type": "code",
   "execution_count": 1,
   "id": "191caffd",
   "metadata": {},
   "outputs": [],
   "source": [
    "import pandas as pd"
   ]
  },
  {
   "cell_type": "markdown",
   "id": "67bb826c",
   "metadata": {},
   "source": [
    "### Import/Load File "
   ]
  },
  {
   "cell_type": "markdown",
   "id": "82848350",
   "metadata": {},
   "source": [
    "### Export Data"
   ]
  },
  {
   "cell_type": "markdown",
   "id": "32569c63",
   "metadata": {},
   "source": [
    "### Show Tabular Structure"
   ]
  }
 ],
 "metadata": {
  "kernelspec": {
   "display_name": ".ven",
   "language": "python",
   "name": "python3"
  },
  "language_info": {
   "codemirror_mode": {
    "name": "ipython",
    "version": 3
   },
   "file_extension": ".py",
   "mimetype": "text/x-python",
   "name": "python",
   "nbconvert_exporter": "python",
   "pygments_lexer": "ipython3",
   "version": "3.12.6"
  }
 },
 "nbformat": 4,
 "nbformat_minor": 5
}
