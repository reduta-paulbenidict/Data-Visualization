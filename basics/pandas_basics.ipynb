{
 "cells": [
  {
   "cell_type": "markdown",
   "id": "a57ee240",
   "metadata": {},
   "source": [
    "### PANDAS BASICS\n",
    "```bash\n",
    "pip install pandas\n",
    "```"
   ]
  },
  {
   "cell_type": "code",
   "execution_count": 1,
   "id": "191caffd",
   "metadata": {},
   "outputs": [],
   "source": [
    "import pandas as pd"
   ]
  },
  {
   "cell_type": "markdown",
   "id": "67bb826c",
   "metadata": {},
   "source": [
    "### Import/Load File "
   ]
  },
  {
   "cell_type": "code",
   "execution_count": null,
   "id": "42577dd3",
   "metadata": {},
   "outputs": [],
   "source": [
    "df = pd.read_csv('datasets/titanic_dataset.csv')\n",
    "df"
   ]
  },
  {
   "cell_type": "markdown",
   "id": "610e93d8",
   "metadata": {},
   "source": [
    "### Pandas Indexing"
   ]
  },
  {
   "cell_type": "markdown",
   "id": "53c074c7",
   "metadata": {},
   "source": [
    "### Using loc[]"
   ]
  },
  {
   "cell_type": "code",
   "execution_count": null,
   "id": "f929264d",
   "metadata": {},
   "outputs": [],
   "source": [
    "#Get the full row for Passenger ID 0\n",
    "df.loc[0]"
   ]
  },
  {
   "cell_type": "code",
   "execution_count": null,
   "id": "2919c412",
   "metadata": {},
   "outputs": [],
   "source": [
    "#Get the Name of the first passenger\n",
    "df.loc[0, \"Name\"]"
   ]
  },
  {
   "cell_type": "code",
   "execution_count": null,
   "id": "9dcaa36d",
   "metadata": {},
   "outputs": [],
   "source": [
    "#Get the Sex and Age of passengers 0 to 4\n",
    "df.loc[0:4, [\"Sex\", \"Age\"]]"
   ]
  },
  {
   "cell_type": "markdown",
   "id": "78fc21dd",
   "metadata": {},
   "source": [
    "### Using iloc[]"
   ]
  },
  {
   "cell_type": "code",
   "execution_count": null,
   "id": "90ea3e71",
   "metadata": {},
   "outputs": [],
   "source": [
    "#Get the first row of the DataFrame\n",
    "df.iloc[0]"
   ]
  },
  {
   "cell_type": "code",
   "execution_count": null,
   "id": "3d0c4e45",
   "metadata": {},
   "outputs": [],
   "source": [
    "#Get the value in row 0, column 3 (which is \"Name\")\n",
    "df.iloc[0, 3]"
   ]
  },
  {
   "cell_type": "code",
   "execution_count": null,
   "id": "dfb079e3",
   "metadata": {},
   "outputs": [],
   "source": [
    "#Get the first 5 rows and first 3 columns\n",
    "df.iloc[0:5, 0:3]"
   ]
  },
  {
   "cell_type": "markdown",
   "id": "32569c63",
   "metadata": {},
   "source": [
    "### Show Tabular Structure"
   ]
  },
  {
   "cell_type": "code",
   "execution_count": null,
   "id": "74c75c77",
   "metadata": {},
   "outputs": [],
   "source": []
  },
  {
   "cell_type": "code",
   "execution_count": null,
   "id": "1b2d50a0",
   "metadata": {},
   "outputs": [],
   "source": [
    "# Display the first few rows of the DataFrame\n",
    "df.head()"
   ]
  },
  {
   "cell_type": "code",
   "execution_count": null,
   "id": "db1042de",
   "metadata": {},
   "outputs": [],
   "source": [
    "#Display the last few rows of the DataFrame\n",
    "df.tail()"
   ]
  },
  {
   "cell_type": "code",
   "execution_count": null,
   "id": "6db26f6a",
   "metadata": {},
   "outputs": [],
   "source": [
    "# Display the DataFrame's structure\n",
    "df.info()"
   ]
  },
  {
   "cell_type": "code",
   "execution_count": null,
   "id": "e0946dec",
   "metadata": {},
   "outputs": [],
   "source": [
    "# Display summary statistics of the DataFrame\n",
    "df.describe()"
   ]
  },
  {
   "cell_type": "markdown",
   "id": "82848350",
   "metadata": {},
   "source": [
    "### Export Data"
   ]
  },
  {
   "cell_type": "code",
   "execution_count": null,
   "id": "728e23eb",
   "metadata": {},
   "outputs": [],
   "source": [
    "# Save the DataFrame to a new CSV file\n",
    "df.to_csv('titanic_dataset_copy.csv', index=False)"
   ]
  }
 ],
 "metadata": {
  "kernelspec": {
   "display_name": ".ven",
   "language": "python",
   "name": "python3"
  },
  "language_info": {
   "codemirror_mode": {
    "name": "ipython",
    "version": 3
   },
   "file_extension": ".py",
   "mimetype": "text/x-python",
   "name": "python",
   "nbconvert_exporter": "python",
   "pygments_lexer": "ipython3",
   "version": "3.12.6"
  }
 },
 "nbformat": 4,
 "nbformat_minor": 5
}
