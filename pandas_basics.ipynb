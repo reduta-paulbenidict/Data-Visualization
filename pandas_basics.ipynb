{
 "cells": [
  {
   "cell_type": "markdown",
   "id": "a57ee240",
   "metadata": {},
   "source": [
    "### PANDAS BASICS\n",
    "```bash\n",
    "pip install pandas\n",
    "```"
   ]
  },
  {
   "cell_type": "code",
   "execution_count": null,
   "id": "191caffd",
   "metadata": {},
   "outputs": [],
   "source": [
    "import pandas as pd"
   ]
  },
  {
   "cell_type": "markdown",
   "id": "67bb826c",
   "metadata": {},
   "source": [
    "### Import/Load File "
   ]
  },
  {
   "cell_type": "code",
   "execution_count": null,
   "id": "42577dd3",
   "metadata": {},
   "outputs": [],
   "source": [
    "df = pd.read_csv('datasets/titanic_dataset.csv')\n",
    "df"
   ]
  },
  {
   "cell_type": "markdown",
   "id": "32569c63",
   "metadata": {},
   "source": [
    "### Show Tabular Structure"
   ]
  },
  {
   "cell_type": "code",
   "execution_count": null,
   "id": "1b2d50a0",
   "metadata": {},
   "outputs": [],
   "source": [
    "# Display the first few rows of the DataFrame\n",
    "df.head()"
   ]
  },
  {
   "cell_type": "code",
   "execution_count": null,
   "id": "db1042de",
   "metadata": {},
   "outputs": [],
   "source": [
    "#Display the last few rows of the DataFrame\n",
    "df.tail()"
   ]
  },
  {
   "cell_type": "code",
   "execution_count": null,
   "id": "6db26f6a",
   "metadata": {},
   "outputs": [],
   "source": [
    "# Display the DataFrame's structure\n",
    "df.info()"
   ]
  },
  {
   "cell_type": "code",
   "execution_count": null,
   "id": "e0946dec",
   "metadata": {},
   "outputs": [],
   "source": [
    "# Display summary statistics of the DataFrame\n",
    "df.describe()"
   ]
  },
  {
   "cell_type": "markdown",
   "id": "82848350",
   "metadata": {},
   "source": [
    "### Export Data"
   ]
  },
  {
   "cell_type": "code",
   "execution_count": null,
   "id": "728e23eb",
   "metadata": {},
   "outputs": [],
   "source": [
    "# Save the DataFrame to a new CSV file\n",
    "df.to_csv('titanic_dataset_copy.csv', index=False)"
   ]
  }
 ],
 "metadata": {
  "language_info": {
   "name": "python"
  }
 },
 "nbformat": 4,
 "nbformat_minor": 5
}
