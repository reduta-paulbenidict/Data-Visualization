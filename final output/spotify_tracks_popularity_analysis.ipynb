{
 "cells": [
  {
   "cell_type": "markdown",
   "id": "1bd8ed05",
   "metadata": {},
   "source": [
    "# ANALYSIS OF POPULARITY OF TRACKS IN SPOTIFY"
   ]
  },
  {
   "cell_type": "code",
   "execution_count": null,
   "id": "b1a6186b",
   "metadata": {},
   "outputs": [],
   "source": [
    "import numpy as np\n",
    "import pandas as pd\n",
    "import matplotlib.pyplot as plt"
   ]
  },
  {
   "cell_type": "markdown",
   "id": "8938c03e",
   "metadata": {},
   "source": [
    "## Load Required Dataset"
   ]
  },
  {
   "cell_type": "code",
   "execution_count": null,
   "id": "62d1b89a",
   "metadata": {},
   "outputs": [],
   "source": []
  },
  {
   "cell_type": "markdown",
   "id": "a38d82ea",
   "metadata": {},
   "source": [
    "## Clean and Prepare Data"
   ]
  },
  {
   "cell_type": "code",
   "execution_count": null,
   "id": "19ea03ad",
   "metadata": {},
   "outputs": [],
   "source": []
  },
  {
   "cell_type": "markdown",
   "id": "2c8988a9",
   "metadata": {},
   "source": [
    "## Analyze Popularity of Tracks"
   ]
  },
  {
   "cell_type": "code",
   "execution_count": null,
   "id": "b512547a",
   "metadata": {},
   "outputs": [],
   "source": []
  },
  {
   "cell_type": "markdown",
   "id": "97a2d0ad",
   "metadata": {},
   "source": [
    "## Visualize Popularity of Tracks"
   ]
  },
  {
   "cell_type": "code",
   "execution_count": null,
   "id": "86935c97",
   "metadata": {},
   "outputs": [],
   "source": []
  },
  {
   "cell_type": "markdown",
   "id": "fb3ff81c",
   "metadata": {},
   "source": [
    "## Report Findings"
   ]
  },
  {
   "cell_type": "markdown",
   "id": "d5131ec9",
   "metadata": {},
   "source": []
  }
 ],
 "metadata": {
  "kernelspec": {
   "display_name": ".venv",
   "language": "python",
   "name": "python3"
  },
  "language_info": {
   "name": "python",
   "version": "3.13.3"
  }
 },
 "nbformat": 4,
 "nbformat_minor": 5
}
