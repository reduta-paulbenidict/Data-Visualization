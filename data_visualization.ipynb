{
 "cells": [
  {
   "cell_type": "code",
   "execution_count": 1,
   "id": "dca36bf4",
   "metadata": {},
   "outputs": [],
   "source": [
    "import numpy as np\n",
    "import pandas as pd\n",
    "import matplotlib.pyplot as plt"
   ]
  },
  {
   "cell_type": "markdown",
   "id": "aade8545",
   "metadata": {},
   "source": [
    "NUMPY BASICS"
   ]
  },
  {
   "cell_type": "code",
   "execution_count": null,
   "id": "ed2cc0df",
   "metadata": {},
   "outputs": [],
   "source": []
  },
  {
   "cell_type": "markdown",
   "id": "0e60a6a4",
   "metadata": {},
   "source": [
    "PANDAS FOR DATAFRAMES AND I/O"
   ]
  },
  {
   "cell_type": "code",
   "execution_count": null,
   "id": "87400aa7",
   "metadata": {},
   "outputs": [],
   "source": []
  },
  {
   "cell_type": "markdown",
   "id": "a1666adf",
   "metadata": {},
   "source": [
    "CLEANING AND MANIPULATING DATA"
   ]
  },
  {
   "cell_type": "code",
   "execution_count": null,
   "id": "6fa06a1d",
   "metadata": {},
   "outputs": [],
   "source": []
  }
 ],
 "metadata": {
  "kernelspec": {
   "display_name": ".venv",
   "language": "python",
   "name": "python3"
  },
  "language_info": {
   "codemirror_mode": {
    "name": "ipython",
    "version": 3
   },
   "file_extension": ".py",
   "mimetype": "text/x-python",
   "name": "python",
   "nbconvert_exporter": "python",
   "pygments_lexer": "ipython3",
   "version": "3.13.3"
  }
 },
 "nbformat": 4,
 "nbformat_minor": 5
}
