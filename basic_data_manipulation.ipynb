{
 "cells": [
  {
   "cell_type": "markdown",
   "id": "b5adab00",
   "metadata": {},
   "source": [
    "### BASIC DATA MANIPULATION WITH PANDAS\n"
   ]
  },
  {
   "cell_type": "code",
   "execution_count": 1,
   "id": "383ed61e",
   "metadata": {},
   "outputs": [],
   "source": [
    "import pandas as pd"
   ]
  },
  {
   "cell_type": "code",
   "execution_count": null,
   "id": "5e886071",
   "metadata": {},
   "outputs": [],
   "source": []
  }
 ],
 "metadata": {
  "kernelspec": {
   "display_name": ".venv",
   "language": "python",
   "name": "python3"
  },
  "language_info": {
   "codemirror_mode": {
    "name": "ipython",
    "version": 3
   },
   "file_extension": ".py",
   "mimetype": "text/x-python",
   "name": "python",
   "nbconvert_exporter": "python",
   "pygments_lexer": "ipython3",
   "version": "3.13.3"
  }
 },
 "nbformat": 4,
 "nbformat_minor": 5
}
